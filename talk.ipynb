{
 "cells": [
  {
   "cell_type": "markdown",
   "metadata": {},
   "source": [
    "```{=latex}\n",
    "\\usepackage{hyperref}\n",
    "\\usepackage{graphicx}\n",
    "\\usepackage{listings}\n",
    "\\usepackage{textcomp}\n",
    "\\usepackage{fancyvrb}\n",
    "\n",
    "\\newcommand{\\passthrough}[1]{\\lstset{mathescape=false}#1\\lstset{mathescape=true}}\n",
    "\\newcommand{\\tightlist}{}\n",
    "```"
   ]
  },
  {
   "cell_type": "markdown",
   "metadata": {},
   "source": [
    "```{=latex}\n",
    "\\title{Getting Started with Incident Retrospectives}\n",
    "\\author{Moshe Zadka -- https://cobordism.com}\n",
    "\\date{}\n",
    "\n",
    "\\begin{document}\n",
    "\\begin{titlepage}\n",
    "\\maketitle\n",
    "\\end{titlepage}\n",
    "\n",
    "\\frame{\\titlepage}\n",
    "```"
   ]
  },
  {
   "cell_type": "markdown",
   "metadata": {
    "tags": []
   },
   "source": [
    "```{=latex}\n",
    "\\begin{frame}\n",
    "\\frametitle{Acknowledgement of Country}\n",
    "\n",
    "Belmont (in San Francisco Bay Area Peninsula)\n",
    "\n",
    "Ancestral homeland of the Ramaytush Ohlone people\n",
    "\n",
    "\\end{frame}\n",
    "```"
   ]
  },
  {
   "cell_type": "markdown",
   "metadata": {
    "tags": []
   },
   "source": [
    "I live in Belmont,\n",
    "in the San Francisco Bay Area Peninsula.\n",
    "I wish to acknowledge it as the\n",
    "ancestral homeland\n",
    "of the\n",
    "Ramaytush Ohlone people."
   ]
  },
  {
   "cell_type": "markdown",
   "metadata": {},
   "source": [
    "## The Basics"
   ]
  },
  {
   "cell_type": "markdown",
   "metadata": {
    "tags": []
   },
   "source": [
    "```{=latex}\n",
    "\\begin{frame}\n",
    "\\frametitle{Basic Terms Defined}\n",
    "\n",
    "Getting on the same page\n",
    "\n",
    "\\end{frame}\n",
    "```\n",
    "\n",
    "Before talking about how to do incident retrospectives,\n",
    "we need to make sure we are all on the same page.\n",
    "Let's start by definining some terms."
   ]
  },
  {
   "cell_type": "markdown",
   "metadata": {},
   "source": [
    "### Incident"
   ]
  },
  {
   "cell_type": "markdown",
   "metadata": {
    "tags": []
   },
   "source": [
    "```{=latex}\n",
    "\\begin{frame}\n",
    "\\frametitle{Incident}\n",
    "\n",
    "Something happened that was not meant to happen\\pause\n",
    "\n",
    "and it would be bad \"enough\" if it happened again\n",
    "\n",
    "\\end{frame}\n",
    "```\n",
    "\n",
    "An incident is when something happens\n",
    "that should not have happened.\n",
    "To be an incident it should be the case that it would be\n",
    "*bad*\n",
    "if it happened again."
   ]
  },
  {
   "cell_type": "markdown",
   "metadata": {},
   "source": [
    "### Incident Retrospective"
   ]
  },
  {
   "cell_type": "markdown",
   "metadata": {
    "tags": []
   },
   "source": [
    "```{=latex}\n",
    "\\begin{frame}\n",
    "\\frametitle{Incident Retrospective}\n",
    "\n",
    "Analysis\\pause\n",
    "\n",
    "Joint review\\pause\n",
    "\n",
    "Agreement on next steps\n",
    "\n",
    "\n",
    "\\end{frame}\n",
    "```\n",
    "\n",
    "An incident retrospective is an analysis of the incident.\n",
    "The analysis should be\n",
    "*consensual*:\n",
    "the team must agree the analysis is correct.\n",
    "The team must also agree on what the next steps are."
   ]
  },
  {
   "cell_type": "markdown",
   "metadata": {},
   "source": [
    "### Goals of Incident Retrospective"
   ]
  },
  {
   "cell_type": "markdown",
   "metadata": {
    "tags": []
   },
   "source": [
    "```{=latex}\n",
    "\\begin{frame}\n",
    "\\frametitle{Goals of Incident Retrospective}\n",
    "\n",
    "\\pause\n",
    "Understanding\n",
    "\n",
    "\\pause\n",
    "Doing better\n",
    "\n",
    "\\end{frame}\n",
    "```\n",
    "\n",
    "An incident retrospective is a lot of effort.\n",
    "Someone has to prepare a draft write-up,\n",
    "and the team needs to comment on it.\n",
    "\n",
    "For the retrospective to be worthwhile,\n",
    "it has to give commensurate benefit.\n",
    "The benefits of a retrospective include\n",
    "*understanding*\n",
    "the system that failed better,\n",
    "and how it can fail.\n",
    "\n",
    "The most important benefit is that retrospectives are a guide to\n",
    "*doing better*.\n",
    "What is doing better?\n",
    "\n",
    "One way of doing better is to avoid such incidents altogether.\n",
    "This is not the only way!\n",
    "\n",
    "Better incidents include\n",
    "faster remediation,\n",
    "less impact on end users,\n",
    "less effort for the team to remediate,\n",
    "and other aspects.\n",
    "When discussing how to do better,\n",
    "it is important to understand in what sense would it be better."
   ]
  },
  {
   "cell_type": "markdown",
   "metadata": {},
   "source": [
    "### Non-Goals of Incident Retrospective"
   ]
  },
  {
   "cell_type": "markdown",
   "metadata": {
    "tags": []
   },
   "source": [
    "```{=latex}\n",
    "\\begin{frame}\n",
    "\\frametitle{Non-Goals of Incident Retrospective}\n",
    "\n",
    "\\pause\n",
    "Deciding who's responsible\n",
    "\n",
    "\\pause\n",
    "Punishing\n",
    "\\end{frame}\n",
    "```\n",
    "\n",
    "It is equally important to note what are the non-goals.\n",
    "Incident retrospectives are a process of improvement,\n",
    "not a process of discipline.\n",
    "\n",
    "They are not used for deciding which person is responsible.\n",
    "They are not used for deciding on a punishment."
   ]
  },
  {
   "cell_type": "markdown",
   "metadata": {},
   "source": [
    "### Timeline"
   ]
  },
  {
   "cell_type": "markdown",
   "metadata": {
    "tags": []
   },
   "source": [
    "```{=latex}\n",
    "\\begin{frame}\n",
    "\\frametitle{Timeline}\n",
    "\n",
    "\\pause\n",
    "Sequence of events\n",
    "\n",
    "\\pause\n",
    "Minute/second resolution\n",
    "\n",
    "\\pause\n",
    "Consistent time zone\n",
    "\n",
    "\\pause\n",
    "Increasing\n",
    "\n",
    "\\pause\n",
    "Thorough\n",
    "\n",
    "\\end{frame}\n",
    "```\n",
    "\n",
    "Part of a retrospective is a timeline.\n",
    "Timelines,\n",
    "in general,\n",
    "are in\n",
    "\"human resolution\":\n",
    "minutes,\n",
    "or at best seconds.\n",
    "\n",
    "A timeline should be in a consistent time zone even,\n",
    "or especially,\n",
    "in the face of a globally distributed team.\n",
    "It should be in the order of time --\n",
    "the stamps should always increase.\n",
    "A timeline should also be\n",
    "*thorough*:\n",
    "include all things which were involved in the incident."
   ]
  },
  {
   "cell_type": "markdown",
   "metadata": {},
   "source": [
    "### Action Items"
   ]
  },
  {
   "cell_type": "markdown",
   "metadata": {
    "tags": []
   },
   "source": [
    "```{=latex}\n",
    "\\begin{frame}\n",
    "\\frametitle{Action Items}\n",
    "\n",
    "\\pause\n",
    "Concrete\n",
    "\n",
    "\\pause\n",
    "Actionable\n",
    "\n",
    "\\end{frame}\n",
    "```\n",
    "\n",
    "Part of a retrospective are action items,\n",
    "or reocmmendations.\n",
    "Such recommendations should be\n",
    "*concrete*\n",
    "and\n",
    "*actionable*.\n",
    "\n",
    "Being concrete,\n",
    "without being actionable,\n",
    "does not make something a recommendation.\n",
    "Being actionable,\n",
    "without being concrete,\n",
    "makes it impossible to know if the recommendation\n",
    "has been implemented."
   ]
  },
  {
   "cell_type": "markdown",
   "metadata": {},
   "source": [
    "## Process"
   ]
  },
  {
   "cell_type": "markdown",
   "metadata": {
    "tags": []
   },
   "source": [
    "```{=latex}\n",
    "\\begin{frame}\n",
    "\\frametitle{Incident Management Process}\n",
    "\n",
    "\\pause\n",
    "Step by step\n",
    "\n",
    "\\end{frame}\n",
    "```\n",
    "\n",
    "Incident retrospective is a\n",
    "*process*.\n",
    "It is not only about the end-goal:\n",
    "the journey is important as well."
   ]
  },
  {
   "cell_type": "markdown",
   "metadata": {},
   "source": [
    "### Incident Management Notes"
   ]
  },
  {
   "cell_type": "markdown",
   "metadata": {
    "tags": []
   },
   "source": [
    "```{=latex}\n",
    "\\begin{frame}\n",
    "\\frametitle{Incident Management Notes}\n",
    "\n",
    "\\pause\n",
    "Rough\n",
    "\n",
    "\\pause\n",
    "Immediate\n",
    "\n",
    "\\end{frame}\n",
    "```\n",
    "\n",
    "While analyzing and remediating an incident,\n",
    "it is important to keep notes.\n",
    "This is should not delay the actual remediation process.\n",
    "\n",
    "One way of doing it is to give the team a heads-up\n",
    "on any actions needed,\n",
    "or analysis results,\n",
    "on a chat channel.\n",
    "This is important,\n",
    "in any case,\n",
    "for allowing the team to help and understand what is being done."
   ]
  },
  {
   "cell_type": "markdown",
   "metadata": {},
   "source": [
    "### Assigning Responsibility"
   ]
  },
  {
   "cell_type": "markdown",
   "metadata": {
    "tags": []
   },
   "source": [
    "```{=latex}\n",
    "\\begin{frame}\n",
    "\\frametitle{Assigning Responsibility}\n",
    "\n",
    "\\pause\n",
    "Prepare the retrospective\n",
    "\n",
    "\\pause\n",
    "Not: \"At fault\"\n",
    "\n",
    "\\pause\n",
    "Not: \"Handled the incident\"\n",
    "\n",
    "\\pause\n",
    "Not: \"Knows best\"\n",
    "\n",
    "\\end{frame}\n",
    "```\n",
    "\n",
    "There should be one person assigned to the retrospective.\n",
    "This assignment should be treated as\n",
    "\"who best to write the retrospective\",\n",
    "and not implied to be a \"punishment\".\n",
    "\n",
    "This means it is not based on who\n",
    "\"caused\"\n",
    "the incident,\n",
    "or who was assigned to remediate it.\n",
    "It is also not necessarily the person who\n",
    "knows the system best.\n",
    "\n",
    "The assignment should be based on a combination of ability to do it\n",
    "in terms of\n",
    "availability\n",
    "and skills\n",
    "as well as\n",
    "who would learn from it the most.\n",
    "It is important that everyone in the team will have experience\n",
    "in writing retrospectives."
   ]
  },
  {
   "cell_type": "markdown",
   "metadata": {},
   "source": [
    "### Research"
   ]
  },
  {
   "cell_type": "markdown",
   "metadata": {
    "tags": []
   },
   "source": [
    "```{=latex}\n",
    "\\begin{frame}\n",
    "\\frametitle{Research}\n",
    "\n",
    "\\pause\n",
    "Prepare timeline\\pause\n",
    "(with references)\n",
    "\n",
    "\\pause\n",
    "Understand the system\n",
    "\n",
    "\\end{frame}\n",
    "```\n",
    "\n",
    "Writing a retrospective requires doing research.\n",
    "The research includes both gathering information\n",
    "on exactly what happened\n",
    "as well as how the system functioned,\n",
    "and malfunctioned."
   ]
  },
  {
   "cell_type": "markdown",
   "metadata": {},
   "source": [
    "### Write-up"
   ]
  },
  {
   "cell_type": "markdown",
   "metadata": {
    "tags": []
   },
   "source": [
    "```{=latex}\n",
    "\\begin{frame}\n",
    "\\frametitle{Write-up}\n",
    "\n",
    "\\pause\n",
    "...More details later\n",
    "\n",
    "\\end{frame}\n",
    "```\n",
    "\n",
    "The details of the write-up are worthy of their own section.\n",
    "For now,\n",
    "we will skip them."
   ]
  },
  {
   "cell_type": "markdown",
   "metadata": {},
   "source": [
    "### Review"
   ]
  },
  {
   "cell_type": "markdown",
   "metadata": {
    "tags": []
   },
   "source": [
    "```{=latex}\n",
    "\\begin{frame}\n",
    "\\frametitle{Review}\n",
    "\n",
    "\\pause\n",
    "Team: On-call rotation\n",
    "\n",
    "\\pause\n",
    "Offer corrections/amendments\n",
    "\n",
    "\\end{frame}\n",
    "```\n",
    "\n",
    "After the draft write-up is ready,\n",
    "is should be put up for review by the team.\n",
    "The definition of the\n",
    "\"team\"\n",
    "here\n",
    "includes,\n",
    "at least,\n",
    "anyone in an on-call rotation for the system.\n",
    "\n",
    "It can also include adjacent teams\n",
    "as well as people who contribute code \n",
    "but are not on the rotation."
   ]
  },
  {
   "cell_type": "markdown",
   "metadata": {},
   "source": [
    "### Follow-up"
   ]
  },
  {
   "cell_type": "markdown",
   "metadata": {
    "tags": []
   },
   "source": [
    "```{=latex}\n",
    "\\begin{frame}\n",
    "\\frametitle{Follow-up}\n",
    "\n",
    "\\pause\n",
    "Recommendation to implementation\n",
    "\n",
    "\\end{frame}\n",
    "```\n",
    "\n",
    "The final piece of the retrospective\n",
    "is to make specific recommendations.\n",
    "The incident is not properly\n",
    "\"done\"\n",
    "until the recommendations have been implemented."
   ]
  },
  {
   "cell_type": "markdown",
   "metadata": {},
   "source": [
    "## System Safety and Control Theory (3)"
   ]
  },
  {
   "cell_type": "markdown",
   "metadata": {
    "tags": []
   },
   "source": [
    "```{=latex}\n",
    "\\begin{frame}\n",
    "\\frametitle{System Safety and Control Theory}\n",
    "\n",
    "\\pause\n",
    "Applications to writing incident retrospectives\n",
    "\n",
    "\\end{frame}\n",
    "```\n",
    "\n",
    "Before talking about incident retrospective write-ups,\n",
    "it is important to understand the theory of systems failure.\n",
    "This theory guides as to how to analyze the system,\n",
    "what belongs in the timeline,\n",
    "and how to move from analysis to recommendation."
   ]
  },
  {
   "cell_type": "markdown",
   "metadata": {},
   "source": [
    "### System"
   ]
  },
  {
   "cell_type": "markdown",
   "metadata": {
    "tags": []
   },
   "source": [
    "```{=latex}\n",
    "\\begin{frame}\n",
    "\\frametitle{System}\n",
    "\n",
    "\\pause\n",
    "Parts we control\n",
    "\n",
    "\\end{frame}\n",
    "```\n",
    "\n",
    "The\n",
    "\"system\"\n",
    "is the part under the team's control.\n",
    "The definition of the\n",
    "\"system\"\n",
    "depends on the definition of the\n",
    "\"team\".\n"
   ]
  },
  {
   "cell_type": "markdown",
   "metadata": {},
   "source": [
    "### Environment"
   ]
  },
  {
   "cell_type": "markdown",
   "metadata": {
    "tags": []
   },
   "source": [
    "```{=latex}\n",
    "\\begin{frame}\n",
    "\\frametitle{Environment}\n",
    "\n",
    "\\pause\n",
    "Parts we don't control...\n",
    "\n",
    "\\pause\n",
    "...that effect the system\n",
    "\n",
    "\\end{frame}\n",
    "```\n",
    "\n",
    "The\n",
    "\"environment\"\n",
    "is anything that interacts with the system\n",
    "that is not under the control of the team.\n",
    "\n",
    "This includes infrastructure the system depends on,\n",
    "as well as any systems that depend on it.\n",
    "The environment is also any ambient factors:\n",
    "for example,\n",
    "other systems using the same infrastructure."
   ]
  },
  {
   "cell_type": "markdown",
   "metadata": {},
   "source": [
    "### Control"
   ]
  },
  {
   "cell_type": "markdown",
   "metadata": {
    "tags": []
   },
   "source": [
    "```{=latex}\n",
    "\\begin{frame}\n",
    "\\frametitle{Control}\n",
    "\n",
    "\\pause\n",
    "System responding to environment\n",
    "\n",
    "\\end{frame}\n",
    "```\n",
    "\n",
    "A\n",
    "\"control\"\n",
    "is a part of the system that takes\n",
    "input from the environment\n",
    "and\n",
    "changes the behavior of the system.\n",
    "In general,\n",
    "controls\n",
    "are designed to keep a system functioning inside\n",
    "given parameters."
   ]
  },
  {
   "cell_type": "markdown",
   "metadata": {},
   "source": [
    "### Safety Control"
   ]
  },
  {
   "cell_type": "markdown",
   "metadata": {
    "tags": []
   },
   "source": [
    "```{=latex}\n",
    "\\begin{frame}\n",
    "\\frametitle{Safety Control}\n",
    "\n",
    "\\pause\n",
    "Part of system\n",
    "\n",
    "\\pause\n",
    "designed to avoid failure\n",
    "\n",
    "\\end{frame}\n",
    "```\n",
    "\n",
    "A\n",
    "*safety control*\n",
    "is a control that is designed to prevent,\n",
    "or mitigate,\n",
    "a system failure.\n",
    "It responds to a potential issue\n",
    "and changes the system to make the failure less likely."
   ]
  },
  {
   "cell_type": "markdown",
   "metadata": {},
   "source": [
    "### Safety Control Failure"
   ]
  },
  {
   "cell_type": "markdown",
   "metadata": {
    "tags": []
   },
   "source": [
    "```{=latex}\n",
    "\\begin{frame}\n",
    "\\frametitle{Safety Control Failure}\n",
    "\n",
    "\\pause\n",
    "Safety control...\n",
    "\n",
    "\\pause\n",
    "...environment...\n",
    "\n",
    "\\pause\n",
    "...failure\n",
    "\n",
    "\\end{frame}\n",
    "```\n",
    "\n",
    "A safety control failure\n",
    "happens when a safety control\n",
    "encounters a problem it was designed to mitigte\n",
    "and does not mitigate it appropriately."
   ]
  },
  {
   "cell_type": "markdown",
   "metadata": {},
   "source": [
    "### Further Resources"
   ]
  },
  {
   "cell_type": "markdown",
   "metadata": {
    "tags": []
   },
   "source": [
    "```{=latex}\n",
    "\\begin{frame}\n",
    "\\frametitle{Further Resources}\n",
    "\n",
    "\\pause\n",
    "Professor Nancy Levenson\n",
    "\n",
    "\\pause\n",
    "CAST Handbook\n",
    "\n",
    "\\end{frame}\n",
    "```\n",
    "\n",
    "This was a speedrun of the concepts involved in CAST,\n",
    "Causal Analysis based on Systems Theory.\n",
    "Professor Nancy Levenson of MIT\n",
    "has published the\n",
    "CAST Handbook,\n",
    "based on her research.\n",
    "\n",
    "The book is available for free on the internet.\n",
    "Reading it is highly useful."
   ]
  },
  {
   "cell_type": "markdown",
   "metadata": {},
   "source": [
    "## Anatomy of a Write-up: High-level (4)"
   ]
  },
  {
   "cell_type": "markdown",
   "metadata": {
    "tags": []
   },
   "source": [
    "```{=latex}\n",
    "\\begin{frame}\n",
    "\\frametitle{Anatomy of a Write-up}\n",
    "\n",
    "Table of Contents\n",
    "\n",
    "\\end{frame}\n",
    "```\n",
    "\n",
    "Now that the basics of systems theory has been established,\n",
    "it is time to talk on how to apply it to writing incident retrospectives.\n",
    "The first step is to design the\n",
    "\"table of contents\"\n",
    "for the write-up."
   ]
  },
  {
   "cell_type": "markdown",
   "metadata": {},
   "source": [
    "### Summary"
   ]
  },
  {
   "cell_type": "markdown",
   "metadata": {
    "tags": []
   },
   "source": [
    "```{=latex}\n",
    "\\begin{frame}\n",
    "\\frametitle{Summary}\n",
    "\n",
    "\\pause\n",
    "One paragraph\n",
    "\n",
    "\\pause\n",
    "Appears first....\n",
    "\n",
    "\\pause\n",
    "...written last\n",
    "\n",
    "\\end{frame}\n",
    "```\n",
    "\n",
    "Though the summary appears first,\n",
    "it is written last.\n",
    "Nothing should be in the summary that is not a result\n",
    "of the rest of the write-up."
   ]
  },
  {
   "cell_type": "markdown",
   "metadata": {},
   "source": [
    "### Timeline"
   ]
  },
  {
   "cell_type": "markdown",
   "metadata": {
    "tags": []
   },
   "source": [
    "```{=latex}\n",
    "\\begin{frame}\n",
    "\\frametitle{Timeline}\n",
    "\n",
    "\\pause\n",
    "Bullet list\n",
    "\n",
    "\\pause\n",
    "Time in timezone\n",
    "\n",
    "\\pause\n",
    "What happened\n",
    "\n",
    "\\pause\n",
    "Optional: Link to references\n",
    "\n",
    "\\end{frame}\n",
    "```\n",
    "\n",
    "The next section is the timeline.\n",
    "It consists of a bullet list\n",
    "of timestamps and a short description of what happened.\n",
    "\n",
    "The timeline,\n",
    "ideally,\n",
    "includes links to references and context for what happened.\n",
    "Alarms,\n",
    "pull requests,\n",
    "and more are all useful."
   ]
  },
  {
   "cell_type": "markdown",
   "metadata": {},
   "source": [
    "### What Went Well"
   ]
  },
  {
   "cell_type": "markdown",
   "metadata": {
    "tags": []
   },
   "source": [
    "```{=latex}\n",
    "\\begin{frame}\n",
    "\\frametitle{What Went Well}\n",
    "\n",
    "\\pause\n",
    "A bad time...\n",
    "\n",
    "\\pause\n",
    "...great as a morale boost\n",
    "\n",
    "\\end{frame}\n",
    "```\n",
    "\n",
    "It is always useful to congratulate the team on what went well.\n",
    "While not strictly useful to doing better,\n",
    "it works well as a morale boost.\n",
    "\n",
    "The rest of the incident retrospective is about problems.\n",
    "It is often preceived as a criticism.\n",
    "\n",
    "Putting this front and center allows the reader to have a little\n",
    "moment of relief."
   ]
  },
  {
   "cell_type": "markdown",
   "metadata": {},
   "source": [
    "### What Could Have Been Done Better"
   ]
  },
  {
   "cell_type": "markdown",
   "metadata": {
    "tags": []
   },
   "source": [
    "```{=latex}\n",
    "\\begin{frame}\n",
    "\\frametitle{What Could Have Been Done Better}\n",
    "\n",
    "\\pause\n",
    "Appears before recommendations...\n",
    "\n",
    "\\pause\n",
    "...written after\n",
    "\n",
    "\\end{frame}\n",
    "```\n",
    "\n",
    "This is not the recommendations yet.\n",
    "This is not necessarily actionable --\n",
    "some of the\n",
    "\"what could have been done better\"\n",
    "things could only be clear in retrospect.\n",
    "\n",
    "This is more of a\n",
    "\"fantasy\":\n",
    "how would things go in the best of all scenarios.\n",
    "This is useful for inspiration later on."
   ]
  },
  {
   "cell_type": "markdown",
   "metadata": {},
   "source": [
    "### Analysis"
   ]
  },
  {
   "cell_type": "markdown",
   "metadata": {
    "tags": []
   },
   "source": [
    "```{=latex}\n",
    "\\begin{frame}\n",
    "\\frametitle{Analysis}\n",
    "\n",
    "\\pause\n",
    "Based on CAST\n",
    "\n",
    "\\pause\n",
    "Details later\n",
    "\n",
    "\\end{frame}\n",
    "```\n",
    "\n",
    "The analysis is based on CAST:\n",
    "Causal Analysis based on Systems Theory.\n",
    "The details of how to write an analysis using\n",
    "CAST\n",
    "will be clarified later.\n",
    "For now,\n",
    "let's skip to the next part."
   ]
  },
  {
   "cell_type": "markdown",
   "metadata": {},
   "source": [
    "### Recommendations"
   ]
  },
  {
   "cell_type": "markdown",
   "metadata": {
    "tags": []
   },
   "source": [
    "```{=latex}\n",
    "\\begin{frame}\n",
    "\\frametitle{Recommendations}\n",
    "\n",
    "\\pause\n",
    "Concrete...\n",
    "\n",
    "\\pause\n",
    "...actionable\n",
    "\n",
    "\\pause\n",
    "Open tickets (issues/bugs/...)\n",
    "\n",
    "\\end{frame}\n",
    "```\n",
    "\n",
    "As explained before,\n",
    "the recommendations must be concrete and actionable.\n",
    "If you take nothing else from this talk,\n",
    "this is the most important part.\n",
    "\n",
    "The goal of the retrospective is to make things better.\n",
    "The way to make things better is to have specific things\n",
    "that can be done.\n"
   ]
  },
  {
   "cell_type": "markdown",
   "metadata": {},
   "source": [
    "## Anatomy of a Write-up: Details (5)"
   ]
  },
  {
   "cell_type": "markdown",
   "metadata": {
    "tags": []
   },
   "source": [
    "```{=latex}\n",
    "\\begin{frame}\n",
    "\\frametitle{Anatomy of a Write Up: Analysis}\n",
    "\n",
    "\\pause\n",
    "...Finally, details!\n",
    "\n",
    "\\end{frame}\n",
    "```\n",
    "\n",
    "After all the build-up,\n",
    "let's dive in:\n",
    "how does CAST analysis works?\n",
    "Here is the\n",
    "step-by-step\n",
    "guide."
   ]
  },
  {
   "cell_type": "markdown",
   "metadata": {},
   "source": [
    "### Safety Controls"
   ]
  },
  {
   "cell_type": "markdown",
   "metadata": {
    "tags": []
   },
   "source": [
    "```{=latex}\n",
    "\\begin{frame}\n",
    "\\frametitle{Safety Controls}\n",
    "\n",
    "\\pause\n",
    "List safety controls\n",
    "\n",
    "\\pause\n",
    "Short explanation\n",
    "\n",
    "\\end{frame}\n",
    "```\n",
    "\n",
    "Hopefully,\n",
    "the system had some safety controls.\n",
    "Though they failed to stop the incident,\n",
    "they are still important.\n",
    "\n",
    "List each one,\n",
    "and note what it does.\n",
    "\n"
   ]
  },
  {
   "cell_type": "markdown",
   "metadata": {},
   "source": [
    "### Safety Control Failures"
   ]
  },
  {
   "cell_type": "markdown",
   "metadata": {
    "tags": []
   },
   "source": [
    "```{=latex}\n",
    "\\begin{frame}\n",
    "\\frametitle{Safety Controls Failures}\n",
    "\n",
    "\\pause\n",
    "Every safety control failed\n",
    "\n",
    "\\pause\n",
    "This is what\n",
    "\"incident\"\n",
    "means\n",
    "\n",
    "\\end{frame}\n",
    "```\n",
    "\n",
    "The relevant safety controls all failed.\n",
    "It is important to clearly analyse\n",
    "the failure.\n",
    "\n",
    "This often requires the most research.\n",
    "You will need to understand exactly how the control was supposed\n",
    "to work."
   ]
  },
  {
   "cell_type": "markdown",
   "metadata": {},
   "source": [
    "### Systemic Problems"
   ]
  },
  {
   "cell_type": "markdown",
   "metadata": {
    "tags": []
   },
   "source": [
    "```{=latex}\n",
    "\\begin{frame}\n",
    "\\frametitle{Systemic Problems}\n",
    "\n",
    "\\pause\n",
    "Beyond an individual safety control\n",
    "\n",
    "\\pause\n",
    "Systemic problems leading to the incident\n",
    "\n",
    "\\end{frame}\n",
    "```\n",
    "\n",
    "Are there any systemic problems?\n",
    "\n",
    "For example,\n",
    "what is the process of deciding on safety controls?\n",
    "How are they tested?\n",
    "\n"
   ]
  },
  {
   "cell_type": "markdown",
   "metadata": {},
   "source": [
    "### Missing Safety Controls"
   ]
  },
  {
   "cell_type": "markdown",
   "metadata": {
    "tags": []
   },
   "source": [
    "```{=latex}\n",
    "\\begin{frame}\n",
    "\\frametitle{Missing Safety Controls}\n",
    "\n",
    "\\pause\n",
    "Aspects that lack any safety controls\n",
    "\n",
    "\\end{frame}\n",
    "```\n",
    "\n",
    "Are there any aspects that are completely missing safety contorls?\n",
    "Add a list of safety controls that could have stopped or mitigated\n",
    "the incident."
   ]
  },
  {
   "cell_type": "markdown",
   "metadata": {},
   "source": [
    "### Why not \"root causes\"?"
   ]
  },
  {
   "cell_type": "markdown",
   "metadata": {
    "tags": []
   },
   "source": [
    "```{=latex}\n",
    "\\begin{frame}\n",
    "\\frametitle{Why not \"root causes\"?}\n",
    "\n",
    "\\pause\n",
    "What is the \"root\"?\n",
    "\n",
    "\\pause\n",
    "What is special about the \"root\"?\n",
    "\n",
    "\\pause\n",
    "\"Root\" often in environment\n",
    "\n",
    "\\end{frame}\n",
    "```\n",
    "\n",
    "Often,\n",
    "the analysis is called\n",
    "\"root cause analysis\"\n",
    "or\n",
    "\"contributing causes analysis\".\n",
    "Root cause analysis,\n",
    "properly speaking,\n",
    "is one which identifies the one\n",
    "\"cause\"\n",
    "leading to the issues,\n",
    "and then\n",
    "*fixing it*.\n",
    "\n",
    "This is a fundamentally broken way of working.\n",
    "The problem is not the\n",
    "\"root cause\":\n",
    "the problem is that the system did not have appropriate safety controls.\n",
    "\n",
    "The\n",
    "\"cause\",\n",
    "or\n",
    "\"contributing causes\",\n",
    "might be outside of our locus on control.\n",
    "Increased customer load\n",
    "or underlying infrastructure failure\n",
    "can bring a system down.\n",
    "\n",
    "We do not have control over the customers\n",
    "or the infrastructure.\n",
    "We can make sure that we shed load appropriately\n",
    "or fail over to alternative infrastructure."
   ]
  },
  {
   "cell_type": "markdown",
   "metadata": {},
   "source": [
    "### Actionable Recommendations"
   ]
  },
  {
   "cell_type": "markdown",
   "metadata": {
    "tags": []
   },
   "source": [
    "```{=latex}\n",
    "\\begin{frame}\n",
    "\\frametitle{Actionable Recommendations}\n",
    "\n",
    "\\pause\n",
    "Recommendation must be related to\n",
    "issues identified\n",
    "\n",
    "\\pause\n",
    "Additional safety control\n",
    "\n",
    "\\pause\n",
    "Improvement to existing safety control\n",
    "\n",
    "\\end{frame}\n",
    "```\n",
    "\n",
    "The recommendations should be related to the analysis.\n",
    "Each recommendation should be tracable to one of the specific\n",
    "problems written in the analysis.\n",
    "\n",
    "Specifically,\n",
    "avoid recommendations which would\n",
    "*not*\n",
    "have helped in those particular circumstances."
   ]
  },
  {
   "cell_type": "markdown",
   "metadata": {
    "tags": []
   },
   "source": [
    "```{=latex}\n",
    "\\begin{frame}\n",
    "\\frametitle{What Are Recommendations?}\n",
    "\n",
    "\\pause\n",
    "Software changes\n",
    "\n",
    "\\pause\n",
    "Configuration changes\n",
    "\n",
    "\\pause\n",
    "Process changes\n",
    "\n",
    "\\pause\n",
    "Clear definition \"done\"\n",
    "\n",
    "\\end{frame}\n",
    "```\n",
    "\n",
    "Recommendations can include anything.\n",
    "Often,\n",
    "they'll include changes to software or configuration.\n",
    "\n",
    "Recommendations can,\n",
    "however,\n",
    "also include\n",
    "\"process\"\n",
    "changes.\n",
    "For example,\n",
    "are there are things that someone needs to read\n",
    "before joining an on-call rotation?\n",
    "Do we need to develop more training materials?\n",
    "\n",
    "A recommendation does need to communicate what would\n",
    "\"done\"\n",
    "look like."
   ]
  },
  {
   "cell_type": "markdown",
   "metadata": {},
   "source": [
    "## Incident Retrospective Review (6)"
   ]
  },
  {
   "cell_type": "markdown",
   "metadata": {
    "tags": []
   },
   "source": [
    "```{=latex}\n",
    "\\begin{frame}\n",
    "\\frametitle{Incident Retrospective Review}\n",
    "\n",
    "\\pause\n",
    "\"Post-Mortem Meeting\"?\n",
    "\n",
    "\\pause\n",
    "De-emphasize the meeting!\n",
    "\n",
    "\\end{frame}\n",
    "```\n",
    "\n",
    "When we talk about incident retrospectives,\n",
    "or\n",
    "\"post-mortems\",\n",
    "the usual word that follows is\n",
    "\"meeting\".\n",
    "This should,\n",
    "in general,\n",
    "be the least important part of the process.\n",
    "\n",
    "This is not when the review starts,\n",
    "or ends."
   ]
  },
  {
   "cell_type": "markdown",
   "metadata": {},
   "source": [
    "### Async Feedback"
   ]
  },
  {
   "cell_type": "markdown",
   "metadata": {
    "tags": []
   },
   "source": [
    "```{=latex}\n",
    "\\begin{frame}\n",
    "\\frametitle{Async Feedback}\n",
    "\n",
    "\\pause\n",
    "Comments from the team\n",
    "\n",
    "\\pause\n",
    "Give enough time\n",
    "\n",
    "\\end{frame}\n",
    "```\n",
    "\n",
    "The review starts when there is a draft of the written analysis ready.\n",
    "At that point,\n",
    "ask for feedback from the team.\n",
    "\n",
    "Allow enough time,\n",
    "and have some method,\n",
    "for the team to collaborate on feedback.\n",
    "For example,\n",
    "this can be done using pull request or merge request comments,\n",
    "comments in a shared document writing system,\n",
    "or anything else that works.\n",
    "\n",
    "\n",
    "This allows people enough time to properly consider the analysis,\n",
    "read it,\n",
    "and think about ways it could be done better.\n",
    "Comments need to be clear about what kind of change they are asking for,\n",
    "and why.\n"
   ]
  },
  {
   "cell_type": "markdown",
   "metadata": {},
   "source": [
    "### Addressing Async Feedback"
   ]
  },
  {
   "cell_type": "markdown",
   "metadata": {
    "tags": []
   },
   "source": [
    "```{=latex}\n",
    "\\begin{frame}\n",
    "\\frametitle{Addressing Async Feedback}\n",
    "\n",
    "\\pause\n",
    "Change\n",
    "\n",
    "\\pause\n",
    "Clarify\n",
    "\n",
    "\\pause\n",
    "Disagree\n",
    "\n",
    "\\end{frame}\n",
    "```\n",
    "\n",
    "For each comment,\n",
    "you might want to make the change it suggests,\n",
    "ask a question if it is not clear what change to make,\n",
    "or\n",
    "disagree that this change should be done better.\n",
    "All of these options are relevant and reasonable.\n",
    "\n",
    "For some comments,\n",
    "it will turn out that the clarification is harder to achieve in an\n",
    "asynchronous way.\n",
    "For others,\n",
    "there might be fundamental disagreement.\n",
    "\n",
    "This is the point where it is reasonable to schedule a meeting to\n",
    "discuss those.\n"
   ]
  },
  {
   "cell_type": "markdown",
   "metadata": {},
   "source": [
    "### Incident Retrospective Meeting"
   ]
  },
  {
   "cell_type": "markdown",
   "metadata": {
    "tags": []
   },
   "source": [
    "```{=latex}\n",
    "\\begin{frame}\n",
    "\\frametitle{Incident Retrospective Meeting}\n",
    "\n",
    "\\pause\n",
    "Limit back-and-forth\n",
    "\n",
    "\\pause\n",
    "Invite on an as-needed basis\n",
    "\n",
    "\\end{frame}\n",
    "```\n",
    "\n",
    "In general,\n",
    "avoid more than one\n",
    "back-and-forth\n",
    "on a specific comment.\n",
    "Any comment where the thread is at least three bits long\n",
    "should be resolved during the meeting.\n",
    "\n",
    "When setting up the meeting,\n",
    "only the original author and the people involved in the discussion\n",
    "are mandatory participants.\n",
    "Others in the team can be\n",
    "\"optional\"."
   ]
  },
  {
   "cell_type": "markdown",
   "metadata": {},
   "source": [
    "### Roles in Incident Retrospecive Meeting"
   ]
  },
  {
   "cell_type": "markdown",
   "metadata": {
    "tags": []
   },
   "source": [
    "```{=latex}\n",
    "\\begin{frame}\n",
    "\\frametitle{Roles in Incident Retrospective Meeting}\n",
    "\n",
    "\\pause\n",
    "Presenter\n",
    "\n",
    "\\pause\n",
    "Moderator\n",
    "\n",
    "\\pause\n",
    "Note-taker\n",
    "\n",
    "\\end{frame}\n",
    "```"
   ]
  },
  {
   "cell_type": "markdown",
   "metadata": {},
   "source": [
    "### Follow-up on Incident Retrospective Meeting"
   ]
  },
  {
   "cell_type": "markdown",
   "metadata": {
    "tags": []
   },
   "source": [
    "```{=latex}\n",
    "\\begin{frame}\n",
    "\\frametitle{Follow-up on Incident Retrospective Meeting}\n",
    "\n",
    "\\pause\n",
    "Attach notes\n",
    "\n",
    "\\pause\n",
    "Make agreed-on changes\n",
    "\n",
    "\\pause\n",
    "Announce\n",
    "\n",
    "\\end{frame}\n",
    "```"
   ]
  },
  {
   "cell_type": "markdown",
   "metadata": {},
   "source": [
    "### Finalizing Write-up"
   ]
  },
  {
   "cell_type": "markdown",
   "metadata": {
    "tags": []
   },
   "source": [
    "```{=latex}\n",
    "\\begin{frame}\n",
    "\\frametitle{Finalize Write-Up}\n",
    "\n",
    "\\pause\n",
    "Formally note\n",
    "\"write-up is complete\"\n",
    "\n",
    "\\pause\n",
    "List of\n",
    "\"done\"\n",
    "write-ups\n",
    "\n",
    "\\end{frame}\n",
    "```"
   ]
  },
  {
   "cell_type": "markdown",
   "metadata": {},
   "source": [
    "## Implementing Recommendations (7)"
   ]
  },
  {
   "cell_type": "markdown",
   "metadata": {
    "tags": []
   },
   "source": [
    "```{=latex}\n",
    "\\begin{frame}\n",
    "\\frametitle{Implementing Recommendations}\n",
    "\n",
    "\\pause\n",
    "The main point!\n",
    "\n",
    "\\end{frame}\n",
    "```"
   ]
  },
  {
   "cell_type": "markdown",
   "metadata": {},
   "source": [
    "### Prioritizing"
   ]
  },
  {
   "cell_type": "markdown",
   "metadata": {
    "tags": []
   },
   "source": [
    "```{=latex}\n",
    "\\begin{frame}\n",
    "\\frametitle{Prioritizing}\n",
    "\n",
    "\\pause\n",
    "Clearly decide\n",
    "\n",
    "\n",
    "\\end{frame}\n",
    "```"
   ]
  },
  {
   "cell_type": "markdown",
   "metadata": {},
   "source": [
    "### Tracking"
   ]
  },
  {
   "cell_type": "markdown",
   "metadata": {
    "tags": []
   },
   "source": [
    "```{=latex}\n",
    "\\begin{frame}\n",
    "\\frametitle{Tracking}\n",
    "\n",
    "\\pause\n",
    "Labels/links\n",
    "\n",
    "\\pause\n",
    "Searchable\n",
    "\n",
    "\\end{frame}\n",
    "```"
   ]
  },
  {
   "cell_type": "markdown",
   "metadata": {},
   "source": [
    "### Commitments"
   ]
  },
  {
   "cell_type": "markdown",
   "metadata": {
    "tags": []
   },
   "source": [
    "```{=latex}\n",
    "\\begin{frame}\n",
    "\\frametitle{Commitments}\n",
    "\n",
    "\\pause\n",
    "When?\n",
    "\n",
    "\\pause\n",
    "Document\n",
    "\n",
    "\\end{frame}\n",
    "```"
   ]
  },
  {
   "cell_type": "markdown",
   "metadata": {},
   "source": [
    "### Revisiting Recommendations"
   ]
  },
  {
   "cell_type": "markdown",
   "metadata": {
    "tags": []
   },
   "source": [
    "```{=latex}\n",
    "\\begin{frame}\n",
    "\\frametitle{Revisiting Recommendations}\n",
    "\n",
    "\\pause\n",
    "Not written in stone\n",
    "\n",
    "\\end{frame}\n",
    "```"
   ]
  },
  {
   "cell_type": "markdown",
   "metadata": {},
   "source": [
    "### Common Recommendations"
   ]
  },
  {
   "cell_type": "markdown",
   "metadata": {
    "tags": []
   },
   "source": [
    "```{=latex}\n",
    "\\begin{frame}\n",
    "\\frametitle{Common Recommendations}\n",
    "\n",
    "\\pause\n",
    "Some issues cause multiple incidents\n",
    "\n",
    "\\end{frame}\n",
    "```"
   ]
  },
  {
   "cell_type": "markdown",
   "metadata": {},
   "source": [
    "### Communicating Status of Recommendations"
   ]
  },
  {
   "cell_type": "markdown",
   "metadata": {
    "tags": []
   },
   "source": [
    "```{=latex}\n",
    "\\begin{frame}\n",
    "\\frametitle{Communicating Status of Recommendations}\n",
    "\n",
    "\\pause\n",
    "Planned/in-progress/dropped\n",
    "\n",
    "\\end{frame}\n",
    "```"
   ]
  },
  {
   "cell_type": "markdown",
   "metadata": {},
   "source": [
    "## Onboarding (8)"
   ]
  },
  {
   "cell_type": "markdown",
   "metadata": {
    "tags": []
   },
   "source": [
    "```{=latex}\n",
    "\\begin{frame}\n",
    "\\frametitle{Onboarding}\n",
    "\n",
    "\\pause\n",
    "From here to there\n",
    "\\end{frame}\n",
    "```"
   ]
  },
  {
   "cell_type": "markdown",
   "metadata": {},
   "source": [
    "### Documenting the Process"
   ]
  },
  {
   "cell_type": "markdown",
   "metadata": {
    "tags": []
   },
   "source": [
    "```{=latex}\n",
    "\\begin{frame}\n",
    "\\frametitle{Document the Process}\n",
    "\n",
    "\\pause\n",
    "Step-by-step\n",
    "\n",
    "\\pause\n",
    "Template\n",
    "\n",
    "\\end{frame}\n",
    "```"
   ]
  },
  {
   "cell_type": "markdown",
   "metadata": {},
   "source": [
    "### See One, Do One, Teach One"
   ]
  },
  {
   "cell_type": "markdown",
   "metadata": {
    "tags": []
   },
   "source": [
    "```{=latex}\n",
    "\\begin{frame}\n",
    "\\frametitle{See one, Do one, Teach one}\n",
    "\n",
    "\\pause\n",
    "Medical school system\n",
    "\n",
    "\\pause\n",
    "Watch someone else doing it\n",
    "\n",
    "\\pause\n",
    "Do it with someone else watching\n",
    "\n",
    "\\pause\n",
    "Reverse roles in step 1\n",
    "\n",
    "\\end{frame}\n",
    "```"
   ]
  },
  {
   "cell_type": "markdown",
   "metadata": {},
   "source": [
    "### Allocating Time"
   ]
  },
  {
   "cell_type": "markdown",
   "metadata": {
    "tags": []
   },
   "source": [
    "```{=latex}\n",
    "\\begin{frame}\n",
    "\\frametitle{Allocating time}\n",
    "\n",
    "\\pause\n",
    "A new job responsibility\n",
    "\n",
    "\\end{frame}\n",
    "```"
   ]
  },
  {
   "cell_type": "markdown",
   "metadata": {},
   "source": [
    "### Integrating Feedback"
   ]
  },
  {
   "cell_type": "markdown",
   "metadata": {
    "tags": []
   },
   "source": [
    "```{=latex}\n",
    "\\begin{frame}\n",
    "\\frametitle{Allocating time}\n",
    "\n",
    "\\pause\n",
    "A new job responsibility\n",
    "\n",
    "\\end{frame}\n",
    "```"
   ]
  },
  {
   "cell_type": "markdown",
   "metadata": {},
   "source": [
    "### Clear Standards"
   ]
  },
  {
   "cell_type": "markdown",
   "metadata": {
    "tags": []
   },
   "source": [
    "```{=latex}\n",
    "\\begin{frame}\n",
    "\\frametitle{Clear standards}\n",
    "\n",
    "\\pause\n",
    "What's \"good enough\"?\n",
    "\n",
    "\\end{frame}\n",
    "```"
   ]
  },
  {
   "cell_type": "markdown",
   "metadata": {},
   "source": [
    "### Deadlines"
   ]
  },
  {
   "cell_type": "markdown",
   "metadata": {
    "tags": []
   },
   "source": [
    "```{=latex}\n",
    "\\begin{frame}\n",
    "\\frametitle{Deadlines}\n",
    "\n",
    "\\pause\n",
    "When is it due?\n",
    "\n",
    "\\end{frame}\n",
    "```"
   ]
  },
  {
   "cell_type": "markdown",
   "metadata": {},
   "source": [
    "## Iterating (9)"
   ]
  },
  {
   "cell_type": "markdown",
   "metadata": {
    "tags": []
   },
   "source": [
    "```{=latex}\n",
    "\\begin{frame}\n",
    "\\frametitle{Iterating}\n",
    "\n",
    "\\pause\n",
    "Getting better\n",
    "\n",
    "\\end{frame}\n",
    "```"
   ]
  },
  {
   "cell_type": "markdown",
   "metadata": {},
   "source": [
    "### Updating the Process"
   ]
  },
  {
   "cell_type": "markdown",
   "metadata": {
    "tags": []
   },
   "source": [
    "```{=latex}\n",
    "\\begin{frame}\n",
    "\\frametitle{Updating the Process}\n",
    "\n",
    "\\pause\n",
    "Process for update\n",
    "\n",
    "\\end{frame}\n",
    "```"
   ]
  },
  {
   "cell_type": "markdown",
   "metadata": {},
   "source": [
    "### Communicating Changes"
   ]
  },
  {
   "cell_type": "markdown",
   "metadata": {
    "tags": []
   },
   "source": [
    "```{=latex}\n",
    "\\begin{frame}\n",
    "\\frametitle{Communicating changes}\n",
    "\n",
    "\\pause\n",
    "Announce clearly\n",
    "\n",
    "\\end{frame}\n",
    "```"
   ]
  },
  {
   "cell_type": "markdown",
   "metadata": {},
   "source": [
    "### Clearly Needed Changes"
   ]
  },
  {
   "cell_type": "markdown",
   "metadata": {
    "tags": []
   },
   "source": [
    "```{=latex}\n",
    "\\begin{frame}\n",
    "\\frametitle{Clearly needed changes}\n",
    "\n",
    "\\pause\n",
    "Missing things\n",
    "\n",
    "\\pause\n",
    "Unclear\n",
    "\n",
    "\\end{frame}\n",
    "```"
   ]
  },
  {
   "cell_type": "markdown",
   "metadata": {},
   "source": [
    "### Analyzing Retrospectives Over Time"
   ]
  },
  {
   "cell_type": "markdown",
   "metadata": {
    "tags": []
   },
   "source": [
    "```{=latex}\n",
    "\\begin{frame}\n",
    "\\frametitle{Changes over time}\n",
    "\n",
    "\\pause\n",
    "Common problems\n",
    "\n",
    "\\pause\n",
    "Make it easy to analyze\n",
    "\n",
    "\\end{frame}\n",
    "```"
   ]
  },
  {
   "cell_type": "markdown",
   "metadata": {},
   "source": [
    "### Standard vs. Team-led"
   ]
  },
  {
   "cell_type": "markdown",
   "metadata": {
    "tags": []
   },
   "source": [
    "```{=latex}\n",
    "\\begin{frame}\n",
    "\\frametitle{Standard vs. Team-led}\n",
    "\n",
    "\\pause\n",
    "Can different teams have different processes?\n",
    "\n",
    "\\end{frame}\n",
    "```"
   ]
  },
  {
   "cell_type": "markdown",
   "metadata": {},
   "source": [
    "### Intentional Learning"
   ]
  },
  {
   "cell_type": "markdown",
   "metadata": {
    "tags": []
   },
   "source": [
    "```{=latex}\n",
    "\\begin{frame}\n",
    "\\frametitle{Intentional Learning}\n",
    "\n",
    "\\pause\n",
    "Research\n",
    "\n",
    "\\pause\n",
    "Discuss\n",
    "\n",
    "\\end{frame}\n",
    "```"
   ]
  },
  {
   "cell_type": "markdown",
   "metadata": {},
   "source": [
    "## Summary (10)"
   ]
  },
  {
   "cell_type": "markdown",
   "metadata": {
    "tags": []
   },
   "source": [
    "```{=latex}\n",
    "\\begin{frame}\n",
    "\\frametitle{Summary}\n",
    "\n",
    "Highlights\n",
    "\n",
    "\\end{frame}\n",
    "```"
   ]
  },
  {
   "cell_type": "markdown",
   "metadata": {},
   "source": [
    "### Back to basics: Blameless"
   ]
  },
  {
   "cell_type": "markdown",
   "metadata": {
    "tags": []
   },
   "source": [
    "```{=latex}\n",
    "\\begin{frame}\n",
    "\\frametitle{Basics: Blameless}\n",
    "\n",
    "\\pause\n",
    "Avoid blame\n",
    "\n",
    "\\pause\n",
    "\"Humans are not the cause\"\n",
    "\n",
    "\\end{frame}\n",
    "```"
   ]
  },
  {
   "cell_type": "markdown",
   "metadata": {},
   "source": [
    "### Consistency Matters"
   ]
  },
  {
   "cell_type": "markdown",
   "metadata": {
    "tags": []
   },
   "source": [
    "```{=latex}\n",
    "\\begin{frame}\n",
    "\\frametitle{Consistency}\n",
    "\n",
    "\\pause\n",
    "Process\n",
    "\n",
    "\\end{frame}\n",
    "```"
   ]
  },
  {
   "cell_type": "markdown",
   "metadata": {},
   "source": [
    "### Measure"
   ]
  },
  {
   "cell_type": "markdown",
   "metadata": {
    "tags": []
   },
   "source": [
    "```{=latex}\n",
    "\\begin{frame}\n",
    "\\frametitle{Measure}\n",
    "\n",
    "\\pause\n",
    "Is it useful?\n",
    "\n",
    "\\end{frame}\n",
    "```"
   ]
  },
  {
   "cell_type": "markdown",
   "metadata": {},
   "source": [
    "### Iterate"
   ]
  },
  {
   "cell_type": "markdown",
   "metadata": {
    "tags": []
   },
   "source": [
    "```{=latex}\n",
    "\\begin{frame}\n",
    "\\frametitle{Iterate}\n",
    "\n",
    "\\pause\n",
    "Remove what doesn't work\n",
    "\n",
    "\\pause\n",
    "Add what's needed\n",
    "\n",
    "\\end{frame}\n",
    "```"
   ]
  },
  {
   "cell_type": "markdown",
   "metadata": {},
   "source": [
    "### Keep the Goal in Mind"
   ]
  },
  {
   "cell_type": "markdown",
   "metadata": {
    "tags": []
   },
   "source": [
    "```{=latex}\n",
    "\\begin{frame}\n",
    "\\frametitle{Goal}\n",
    "\n",
    "\\pause\n",
    "Better incidents!\n",
    "\n",
    "\\end{frame}\n",
    "```"
   ]
  },
  {
   "cell_type": "markdown",
   "metadata": {},
   "source": [
    "### Enjoy!"
   ]
  },
  {
   "cell_type": "markdown",
   "metadata": {},
   "source": [
    "```{=latex}\n",
    "\\end{document}\n",
    "```"
   ]
  }
 ],
 "metadata": {
  "kernelspec": {
   "display_name": "Python 3 (ipykernel)",
   "language": "python",
   "name": "python3"
  },
  "language_info": {
   "codemirror_mode": {
    "name": "ipython",
    "version": 3
   },
   "file_extension": ".py",
   "mimetype": "text/x-python",
   "name": "python",
   "nbconvert_exporter": "python",
   "pygments_lexer": "ipython3",
   "version": "3.10.7"
  },
  "toc-autonumbering": false
 },
 "nbformat": 4,
 "nbformat_minor": 4
}
